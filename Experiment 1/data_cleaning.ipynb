{
 "cells": [
  {
   "cell_type": "code",
   "id": "initial_id",
   "metadata": {
    "collapsed": true,
    "ExecuteTime": {
     "end_time": "2025-08-25T04:00:30.036653Z",
     "start_time": "2025-08-25T04:00:27.104401Z"
    }
   },
   "source": [
    "import pandas as pd\n",
    "import numpy as np\n",
    "import io"
   ],
   "outputs": [],
   "execution_count": 1
  },
  {
   "metadata": {
    "ExecuteTime": {
     "end_time": "2025-08-25T04:00:54.295453Z",
     "start_time": "2025-08-25T04:00:54.291577Z"
    }
   },
   "cell_type": "code",
   "source": [
    "with open('employee_data.csv', 'r') as file:\n",
    "    file_content = file.read()"
   ],
   "id": "a473f39df603cbba",
   "outputs": [],
   "execution_count": 3
  },
  {
   "metadata": {
    "ExecuteTime": {
     "end_time": "2025-08-25T04:01:05.699266Z",
     "start_time": "2025-08-25T04:01:05.692690Z"
    }
   },
   "cell_type": "code",
   "source": "df = pd.read_csv(io.StringIO(file_content))",
   "id": "86404b011a810997",
   "outputs": [],
   "execution_count": 4
  },
  {
   "metadata": {
    "ExecuteTime": {
     "end_time": "2025-08-25T04:01:18.972891Z",
     "start_time": "2025-08-25T04:01:18.969172Z"
    }
   },
   "cell_type": "code",
   "source": "df.columns = df.columns.str.strip().str.lower()",
   "id": "f297d2f66fa48f8",
   "outputs": [],
   "execution_count": 5
  },
  {
   "metadata": {
    "ExecuteTime": {
     "end_time": "2025-08-25T04:01:26.748438Z",
     "start_time": "2025-08-25T04:01:26.742601Z"
    }
   },
   "cell_type": "code",
   "source": "df.drop_duplicates(inplace=True)",
   "id": "1558080e032af73f",
   "outputs": [],
   "execution_count": 6
  },
  {
   "metadata": {
    "ExecuteTime": {
     "end_time": "2025-08-25T04:01:36.110482Z",
     "start_time": "2025-08-25T04:01:36.107853Z"
    }
   },
   "cell_type": "code",
   "source": [
    "if 'department' in df.columns:\n",
    "    df['department'] = df['department'].replace({\n",
    "        'HR': 'Human Resources',\n",
    "        'hr': 'Human Resources',\n",
    "        'IT': 'Information Technology'\n",
    "    })"
   ],
   "id": "97462d845b2d36f4",
   "outputs": [],
   "execution_count": 7
  },
  {
   "metadata": {
    "ExecuteTime": {
     "end_time": "2025-08-25T04:01:48.909259Z",
     "start_time": "2025-08-25T04:01:48.906358Z"
    }
   },
   "cell_type": "code",
   "source": [
    "if 'name' in df.columns:\n",
    "    df['name'].fillna('Unknown', inplace=True)"
   ],
   "id": "769e704ece2c7533",
   "outputs": [],
   "execution_count": 8
  },
  {
   "metadata": {
    "ExecuteTime": {
     "end_time": "2025-08-25T04:01:57.810864Z",
     "start_time": "2025-08-25T04:01:57.806952Z"
    }
   },
   "cell_type": "code",
   "source": [
    "if 'email' in df.columns:\n",
    "    df['email'] = df['email'].astype(str)\n",
    "    df.loc[~df['email'].str.contains('@', na=False), 'email'] = 'not provided'\n",
    "    df['email'].fillna('not provided', inplace=True)"
   ],
   "id": "b6cc4876eb8da206",
   "outputs": [],
   "execution_count": 9
  },
  {
   "metadata": {
    "ExecuteTime": {
     "end_time": "2025-08-25T04:02:05.765574Z",
     "start_time": "2025-08-25T04:02:05.763231Z"
    }
   },
   "cell_type": "code",
   "source": [
    "if 'joining_date' in df.columns:\n",
    "    df['joining_date'].fillna('not provided', inplace=True)"
   ],
   "id": "1556de3025ce9f6e",
   "outputs": [],
   "execution_count": 10
  },
  {
   "metadata": {
    "ExecuteTime": {
     "end_time": "2025-08-25T04:02:49.777633Z",
     "start_time": "2025-08-25T04:02:49.771786Z"
    }
   },
   "cell_type": "code",
   "source": "df.to_csv(\"cleaned_employee_data.csv\", index=False)",
   "id": "b1582dde7d43e57",
   "outputs": [],
   "execution_count": 11
  },
  {
   "metadata": {
    "ExecuteTime": {
     "end_time": "2025-08-25T04:02:53.341161Z",
     "start_time": "2025-08-25T04:02:53.338121Z"
    }
   },
   "cell_type": "code",
   "source": [
    "\n",
    "print(\"✅ Cleaned data saved to 'cleaned_employee_data.csv'\")"
   ],
   "id": "c5699c30742efded",
   "outputs": [
    {
     "name": "stdout",
     "output_type": "stream",
     "text": [
      "✅ Cleaned data saved to 'cleaned_employee_data.csv'\n"
     ]
    }
   ],
   "execution_count": 12
  }
 ],
 "metadata": {
  "kernelspec": {
   "display_name": "Python 3",
   "language": "python",
   "name": "python3"
  },
  "language_info": {
   "codemirror_mode": {
    "name": "ipython",
    "version": 2
   },
   "file_extension": ".py",
   "mimetype": "text/x-python",
   "name": "python",
   "nbconvert_exporter": "python",
   "pygments_lexer": "ipython2",
   "version": "2.7.6"
  }
 },
 "nbformat": 4,
 "nbformat_minor": 5
}
