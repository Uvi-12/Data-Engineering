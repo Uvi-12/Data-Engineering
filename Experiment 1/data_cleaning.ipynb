{
 "cells": [
  {
   "cell_type": "code",
   "id": "initial_id",
   "metadata": {
    "collapsed": true,
    "ExecuteTime": {
     "end_time": "2025-08-25T04:11:13.952539Z",
     "start_time": "2025-08-25T04:11:13.422337Z"
    }
   },
   "source": [
    "import pandas as pd\n",
    "import numpy as np\n",
    "import io"
   ],
   "outputs": [],
   "execution_count": 1
  },
  {
   "metadata": {
    "ExecuteTime": {
     "end_time": "2025-08-25T04:40:38.953674Z",
     "start_time": "2025-08-25T04:40:38.948250Z"
    }
   },
   "cell_type": "code",
   "source": [
    "with open('employee_data.csv', 'r') as file:\n",
    "    file_content = file.read()"
   ],
   "id": "2a888dae600693e8",
   "outputs": [],
   "execution_count": 14
  },
  {
   "metadata": {
    "ExecuteTime": {
     "end_time": "2025-08-25T04:40:46.763720Z",
     "start_time": "2025-08-25T04:40:46.758062Z"
    }
   },
   "cell_type": "code",
   "source": "df = pd.read_csv(io.StringIO(file_content))",
   "id": "18e9f3807742edb",
   "outputs": [],
   "execution_count": 15
  },
  {
   "metadata": {
    "ExecuteTime": {
     "end_time": "2025-08-25T04:40:54.280120Z",
     "start_time": "2025-08-25T04:40:54.275136Z"
    }
   },
   "cell_type": "code",
   "source": "df.columns = df.columns.str.strip().str.lower()",
   "id": "833e2962c4bcc0bc",
   "outputs": [],
   "execution_count": 16
  },
  {
   "metadata": {},
   "cell_type": "code",
   "outputs": [],
   "execution_count": null,
   "source": "df.drop_duplicates(inplace=True)",
   "id": "418037beb352f17e"
  },
  {
   "metadata": {},
   "cell_type": "code",
   "outputs": [],
   "execution_count": null,
   "source": [
    "if 'department' in df.columns:\n",
    "    df['department'] = df['department'].replace({\n",
    "        'HR': 'Human Resources',\n",
    "        'hr': 'Human Resources',\n",
    "        'IT': 'Information Technology'\n",
    "    })"
   ],
   "id": "5d4a31db89b1c77d"
  },
  {
   "metadata": {
    "ExecuteTime": {
     "end_time": "2025-08-25T04:41:15.124845Z",
     "start_time": "2025-08-25T04:41:15.121594Z"
    }
   },
   "cell_type": "code",
   "source": [
    "if 'name' in df.columns:\n",
    "    df['name'].fillna('Unknown', inplace=True)"
   ],
   "id": "492a04a9b63fb0be",
   "outputs": [],
   "execution_count": 17
  },
  {
   "metadata": {
    "ExecuteTime": {
     "end_time": "2025-08-25T04:41:23.085467Z",
     "start_time": "2025-08-25T04:41:23.082035Z"
    }
   },
   "cell_type": "code",
   "source": [
    "if 'email' in df.columns:\n",
    "    df['email'] = df['email'].astype(str)\n",
    "    df.loc[~df['email'].str.contains('@', na=False), 'email'] = 'not provided'\n",
    "    df['email'].fillna('not provided', inplace=True)"
   ],
   "id": "7f0fa0ffeb8b6619",
   "outputs": [],
   "execution_count": 18
  },
  {
   "metadata": {
    "ExecuteTime": {
     "end_time": "2025-08-25T04:41:33.890314Z",
     "start_time": "2025-08-25T04:41:33.885229Z"
    }
   },
   "cell_type": "code",
   "source": [
    "if 'joining_date' in df.columns:\n",
    "    df['joining_date'].fillna('not provided', inplace=True)\n",
    "\n",
    "print(df.head())"
   ],
   "id": "3060a8227511639",
   "outputs": [
    {
     "name": "stdout",
     "output_type": "stream",
     "text": [
      "    emp_id,name,email,joining_date,department,salary\n",
      "0  101,Alice Johnson,alice@company.com,2020-03-01...\n",
      "1  102,Bob Smith,bob.smithcompany.com,2021-06-15,...\n",
      "2  103,Charlie Lee,charlie.lee@company.com,2025-0...\n",
      "3                       104,NaN,,2019-08-01,hr,65000\n",
      "4      105,David Kim,david.kim@company.com,,IT,72000\n"
     ]
    }
   ],
   "execution_count": 19
  },
  {
   "metadata": {
    "ExecuteTime": {
     "end_time": "2025-08-25T04:41:54.315620Z",
     "start_time": "2025-08-25T04:41:54.309969Z"
    }
   },
   "cell_type": "code",
   "source": "df.to_csv(\"cleaned_employee_data.csv\", index=False)",
   "id": "bb3c0ab999c484e6",
   "outputs": [],
   "execution_count": 20
  },
  {
   "metadata": {
    "ExecuteTime": {
     "end_time": "2025-08-25T04:42:05.523590Z",
     "start_time": "2025-08-25T04:42:05.519829Z"
    }
   },
   "cell_type": "code",
   "source": "print(\"✅ Cleaned data saved to 'cleaned_employee_data.csv'\")",
   "id": "eb30c4331f665a2e",
   "outputs": [
    {
     "name": "stdout",
     "output_type": "stream",
     "text": [
      "✅ Cleaned data saved to 'cleaned_employee_data.csv'\n"
     ]
    }
   ],
   "execution_count": 21
  }
 ],
 "metadata": {
  "kernelspec": {
   "display_name": "Python 3",
   "language": "python",
   "name": "python3"
  },
  "language_info": {
   "codemirror_mode": {
    "name": "ipython",
    "version": 2
   },
   "file_extension": ".py",
   "mimetype": "text/x-python",
   "name": "python",
   "nbconvert_exporter": "python",
   "pygments_lexer": "ipython2",
   "version": "2.7.6"
  }
 },
 "nbformat": 4,
 "nbformat_minor": 5
}
